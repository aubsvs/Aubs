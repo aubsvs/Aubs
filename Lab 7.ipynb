{
 "cells": [
  {
   "cell_type": "markdown",
   "metadata": {},
   "source": [
    "#Q1\n",
    "Company: Department of Homeland Security\n",
    "Description: Intelligence Research Specialist with the Department of Homeland Security\n",
    "[Job Website](https://www.indeed.com/viewjob?jk=40d19a3c42b02339&tk=1d5umlenp50os803&from=serp&vjs=3)"
   ]
  },
  {
   "cell_type": "code",
   "execution_count": 5,
   "metadata": {},
   "outputs": [
    {
     "name": "stdout",
     "output_type": "stream",
     "text": [
      "Duties\n",
      "Summary\n",
      "This position is located in the Department of Homeland Security (DHS), Office of Intelligence and Analysis. \n",
      "\n",
      "The primary purpose of this position is to promote understanding of threats through intelligence analysis, gather information and intelligence pertinent to homeland security, share the information necessary for action, and manage intelligence for the Homeland Security Enterprise \n",
      "\n",
      "All DHS-HQ announcements have a 5 day open period due to the number of applications received.\n",
      "Responsibilities\n",
      "As a Intelligence Research Specialist GS 0132 14, your typical work assignments may include the following under supervision:\n",
      "Initiates, drives, personally drafts and develops, and aids DHS I&A Intelligence Officers to develop sophisticated all-source finished intelligence analysis, and other forms of information sharing deliverables across a wide spectrum of threat streams focused on the Homeland and within the purview of the organization.\n",
      "Serves as a subject matter expert on Intelligence Community Directive 203 analytic tradecraft standards, structured analytic techniques, and practical application of these analytic standards and techniques to write and complete finished intelligence analysis.\n",
      "Applies analytic expertise to direct analysis of DHS-derived data for use in all-source finished intelligence products to guide homeland security and resiliency efforts of SLTT, private sector, DHS, and federal civilian customers.\n",
      "Develops and presents all-source finished intelligence briefings to provide senior leaders in the civilian federal agencies and departments, Congress, SLTT agencies, and the private sector with a critical understanding of the evolving homeland threat environment\n",
      "Travel Required\n",
      "Occasional travel - Overnight Travel of 1-5 nights per month may be required.\n",
      "\n",
      "Supervisory status\n",
      "No\n",
      "\n",
      "Promotion Potential\n",
      "14\n",
      "\n",
      "Job family (Series)\n",
      "0132 Intelligence\n",
      "\n",
      "Requirements\n",
      "\n",
      "Requirements\n",
      "Conditions of Employment\n",
      "U. S. Citizenship Required.\n",
      "Males born after 12/31/1959 must be registered for Selective Service.\n",
      "You must successfully pass a background investigation.\n",
      "You must be able to obtain a Top Secret/SCI Security Clearance.\n",
      "You must submit to a pre-employment and random drug test.\n",
      "Overtime may be required in response to a significant event.\n",
      "Qualifications\n",
      "Specialized Experience: \n",
      "You qualify for the GS-14 grade level (starting salary $108,887) if you possess at least one year of specialized experience comparable in scope and responsibility to the GS-13 grade level (obtained in the private or public sectors) which included conducting unclassified and classified all-source finished intelligence analysis on cyber threats to inform customers and guide their policies and operations. This experience includes:\n",
      "Producing and completing all-source (unclassified and classified) finished cyber intelligence assessments that use advanced structured analytic techniques and adhere to the highest level of Intelligence Community Directive 203 analytic tradecraft standards;\n",
      "Preparing and conducting all-source cyber intelligence briefings to provide senior customers with critical understanding of the cyber threat;\n",
      "Advanced technical knowledge of cyber threat actor tactics, techniques, and procedures and demonstrated use of cybersecurity information such as sensor data in all-source finished intelligence analysis.\n",
      "Substitution of education in lieu of specialized experience may not be used for this grade level. \n",
      "Experience refers to paid and unpaid experience, including volunteer work done through National Service programs (e.g., Peace Corps, AmeriCorps) and other organizations (e.g., professional; philanthropic; religious; spiritual; community, student, social). Volunteer work helps build critical competencies, knowledge, and skills and can provide valuable training and experience that translates directly to paid employment. You will receive credit for all qualifying experience, including volunteer experience. \n",
      "\n",
      "All qualifications requirements must be met by Monday, March 18,2019 the closing date of this announcement. \n",
      "\n",
      "Note: Current Federal employees on a developmental career ladder position under the same series as this announcement: If selected and you advance to the next higher grade level prior to establishment of an entry on duty date, you may be hired at the higher grade level and continue the career ladder progression identified in this announcement.All qualifications and eligibility requirements must be met by the closing date of the announcement.Experience refers to paid and unpaid experience, including volunteer work done through National Service programs (e.g., Peace Corps, AmeriCorps) and other organizations (e.g., professional; philanthropic; religious; spiritual; community, student, social). Volunteer work helps build critical competencies, knowledge, and skills and can provide valuable training and experience that translates directly to paid employment. You will receive credit for all qualifying experience, including volunteer experience.Current or Former Political Appointees: The Office of Personnel Management (OPM) must authorize employment offers made to current or former political appointees. If you are currently, or have been within the last 5 years, a political Schedule A, Schedule C or Non-Career SES employee in the Executive Branch, you must disclose this information to the HR Office. Failure to disclose this information could result in disciplinary action including removal from Federal Service. \n",
      "\n",
      "This is a permanent appointment in the Excepted Service and will be filled on a full-time permanent basis. Employees hired under an Excepted Service appointment are required to serve a two (2) year trial period.\n",
      "\n",
      "\n",
      "\n",
      "Education\n",
      "If you are unable to apply online view the following link for information regarding an Alternate Application https://help.usastaffing.gov/Apply/index.php?title=Alternate_Application_Information \n",
      "\n",
      "DHS offers competitive salaries and an attractive benefits package, including: health, dental, vision, life, and long-term care insurance; retirement plan; Thrift Savings Plan [similar to a 401(k)]; Flexible Spending Account; Employee Assistance Program; personal leave days; and paid federal holidays. Other benefits may include: flexible work schedules; telework; tuition reimbursement; transportation subsidies; uniform allowance; health and wellness programs; and fitness centers. DHS is committed to employee development and offers a variety of employee training and developmental opportunities. For more information, go to the DHS Careers website and select \"Employee Benefits.\"\n",
      "\n",
      "Additional information\n",
      "If you are unable to apply online view the following link for information regarding an Alternate Application https://help.usastaffing.gov/Apply/index.php?title=Alternate_Application_Information \n",
      "\n",
      "DHS offers competitive salaries and an attractive benefits package, including: health, dental, vision, life, and long-term care insurance; retirement plan; Thrift Savings Plan [similar to a 401(k)]; Flexible Spending Account; Employee Assistance Program; personal leave days; and paid federal holidays. Other benefits may include: flexible work schedules; telework; tuition reimbursement; transportation subsidies; uniform allowance; health and wellness programs; and fitness centers. DHS is committed to employee development and offers a variety of employee training and developmental opportunities. For more information, go to the DHS Careers website and select \"Employee Benefits.\" \n",
      "\n",
      "Selectee may be required to serve a two-year probationary period \n",
      "\n",
      "Background Investigation: To ensure the accomplishment of its mission, the Department of Homeland Security (DHS) requires each and every employee to be reliable and trustworthy. To meet those standards, all selected applicants must undergo and successfully complete a background investigation for TOP SECRET/SCI SECURITY LEVEL clearance as a condition of placement in this SPECIAL SENSITIVE SENSITIVITY LEVEL position. This review includes financial issues such as delinquency in the payment of debts, child support and/or tax obligations, as well as certain criminal offenses and illegal use or possession of drugs. \n",
      "\n",
      "Pursuant to Executive Order 12654 and DHS policy, DHS is committed to maintaining a drug-free workplace and, therefore, conducts random and other drug testing of its employees in order to ensure a safe and healthy work environment. Headquarters personnel in safety- or security-sensitive positions are subject to random drug testing and all applicants tentatively selected for employment at DHS Headquarters are subject to drug testing resulting in a negative test result. \n",
      "\n",
      "This position is designated as Emergency Essential. Emergency Essential personnel must be able to serve during a continuity of operation event without regard to declarations of liberal leave or government closures due to weather, protests, and acts of terrorism or lack of funding. Failure to report for or remain in this position may result in disciplinary or adverse action in accordance with applicable laws, rules, and regulations (5 U.S.C. 7501-7533 and 5 CFR Part 752, as applicable). \n",
      "\n",
      "This job opportunity announcement may be used to fill additional vacancies within 90 calendar days of the initial issue date of the referral list. Multiple selections may be made from this announcement. \n",
      "\n",
      "By applying to this announcement certifies that you give permission for DHS to share your application with others in DHS for other similar positions. \n",
      "\n",
      "You may be required to submit to urinalysis to screen for illegal drug use prior to appointment and is subject to random drug testing for the duration of service with DHS. \n",
      "\n",
      "DHS uses e-Verify, an Internet-based system, to confirm the eligibility of all newly hired employees to work in the United States. Learn more about E-Verify , including your rights and responsibilities.\n",
      "How You Will Be Evaluated\n",
      "You will be evaluated for this job based on how well you meet the qualifications above.\n",
      "\n",
      "We will review your resume and supporting documentation to ensure you meet the minimum qualification requirements. If you meet the minimum qualifications, your experience, education and training will be rated using a job questionnaire to assign numerical scores on a scale of 100. Applicants who meet the qualification requirements for the position are assigned a rating of 70 or more and are eligible for appointment. The competencies or knowledge, skills and abilities needed to perform this job are: \n",
      "1. Ability in applying structured analytic techniques to a wide range of intelligence questions, achieving innovative approaches in evaluating homeland security threat information, and producing actionable intelligence judgments and opportunity analysis on a broad spectrum of homeland security threats. \n",
      "2. Knowledge of threat actor tactics, techniques, and procedures and demonstrated advanced ability to apply this knowledge in all-source intelligence analysis to produce finished intelligence products tailored for federal, SLTT, and private sector audiences. \n",
      "3. Ability to communicate effectively both orally and in writing with all levels of management and employees to provide advice on procedures, practices and policies. \n",
      "4. Ability to initiate, lead, mentor, recognize, build, and leverage collaborative and constructive networks of diverse coworkers, peers, customers, stakeholders, and teams within an organization and/or across the Federal government, Intelligence Community, SLTT governments, and the private sector to improve the quality and usefulness to the customer of finished homeland security intelligence analysis.\n",
      "Background checks and security clearance\n",
      "Security clearance\n",
      "Sensitive Compartmented Information\n",
      "\n",
      "Drug test required\n",
      "Yes\n",
      "\n",
      "Required Documents\n",
      "\n",
      "Required Documents\n",
      "Your résumé.\n",
      "Your responses to the job questionnaire. https://apply.usastaffing.gov/ViewQuestionnaire/10386462\n",
      "Are you qualifying based on education? Submit a copy of your college transcript (unofficial transcripts are acceptable). Prior to appointment, an official college transcript may be required.\n",
      "Are you a current or former Federal employee? You must submit a copy of your most recent SF-50, Notification of Personnel Action, which shows competitive or excepted service appointment, tenure group, and salary. If you are applying for a higher grade, please submit the SF-50 showing the highest (permanent) grade ever held, if different from your current grade. NOTE: An award, general adjustment or detail SF-50 will not be accepted as proof of status.\n",
      "Consideration may be given to performance appraisals and incentive awards as an indicator of quality of prior experience. If you are determined to be best qualified, you may be referred to the hiring manager for consideration and may be called for an interview. Please provide a copy of your recent performance appraisal and/or incentive awards.\n",
      "If you are relying on your education to meet qualification requirements:\n",
      "Education must be accredited by an accrediting institution recognized by the U.S. Department of Education in order for it to be credited towards qualifications. Therefore, provide only the attendance and/or degrees from schools accredited by accrediting institutions recognized by the U.S. Department of Education .\n",
      "\n",
      "Failure to provide all of the required information as stated in this vacancy announcement may result in an ineligible rating or may affect the overall rating.\n",
      "\n",
      "Benefits\n",
      "\n",
      "Benefits\n",
      "A career with the U.S. Government provides employees with a comprehensive benefits package. As a federal employee, you and your family will have access to a range of benefits that are designed to make your federal career very rewarding. Learn more about federal benefits .\n",
      "\n",
      "Review our benefits\n",
      "\n",
      "Eligibility for benefits depends on the type of position you hold and whether your position is full-time, part-time, or intermittent. Contact the hiring agency for more information on the specific benefits offered.\n"
     ]
    }
   ],
   "source": [
    "IA_job = open(\"IA_job.txt\",\"r\")\n",
    "print (IA_job.read())"
   ]
  },
  {
   "cell_type": "markdown",
   "metadata": {},
   "source": [
    "#Q2"
   ]
  },
  {
   "cell_type": "code",
   "execution_count": 6,
   "metadata": {},
   "outputs": [
    {
     "name": "stdout",
     "output_type": "stream",
     "text": [
      "and 92\n",
      "to 75\n",
      "the 61\n",
      "of 61\n",
      "a 38\n",
      "in 29\n",
      "for 27\n",
      "be 25\n",
      "you 19\n",
      "may 18\n"
     ]
    }
   ],
   "source": [
    "from collections import Counter\n",
    "with open ('IA_job.txt','r') as IA_job:\n",
    "    \n",
    "    Ia_job_list = IA_job.read().split()\n",
    "    \n",
    "    count_result = Counter(Ia_job_list)\n",
    "    \n",
    "    for word, count in count_result.most_common(10):\n",
    "        \n",
    "        print(word, count)"
   ]
  },
  {
   "cell_type": "markdown",
   "metadata": {},
   "source": [
    "#Q3"
   ]
  },
  {
   "cell_type": "code",
   "execution_count": 23,
   "metadata": {},
   "outputs": [],
   "source": [
    "import xlwt        \n",
    "from collections import Counter        \n",
    "book = xlwt.Workbook() # create a new excel file\n",
    "sheet_test = book.add_sheet('word_count') # add a new sheet\n",
    "i = 0\n",
    "sheet_test.write(i,0,'word')\n",
    "sheet_test.write(i,1,'count')\n",
    "with open('IA_job.txt','r') as IA_job: \n",
    "    count_result =  Counter(IA_job.read().split()) \n",
    "    for result in count_result.most_common(20):\n",
    "        i = i+1 \n",
    "        sheet_test.write(i,0,result[0])\n",
    "        sheet_test.write(i,1,result[1])\n",
    "book.save('IA_job.xls') # define where to save your excel file"
   ]
  },
  {
   "cell_type": "markdown",
   "metadata": {},
   "source": [
    "#Q4"
   ]
  },
  {
   "cell_type": "code",
   "execution_count": 44,
   "metadata": {},
   "outputs": [
    {
     "name": "stdout",
     "output_type": "stream",
     "text": [
      "['word', 'count']\n",
      "['and', 92.0]\n",
      "['to', 75.0]\n",
      "['the', 61.0]\n",
      "['of', 61.0]\n",
      "['a', 38.0]\n",
      "['in', 29.0]\n",
      "['for', 27.0]\n",
      "['be', 25.0]\n",
      "['you', 19.0]\n",
      "['may', 18.0]\n",
      "['or', 18.0]\n",
      "['intelligence', 16.0]\n",
      "['this', 15.0]\n",
      "['on', 14.0]\n",
      "['your', 13.0]\n",
      "['DHS', 13.0]\n",
      "['an', 13.0]\n",
      "['are', 13.0]\n",
      "['as', 12.0]\n",
      "['must', 12.0]\n"
     ]
    }
   ],
   "source": [
    "import xlrd\n",
    "\n",
    "book = xlrd.open_workbook('C:\\\\Users\\\\smith2av\\\\OneDrive - James Madison University (Dukes)\\\\Spring 2019\\\\IA 241 Intro to Python\\\\Lec 8\\\\IA_job.xls')\n",
    "sheet = book.sheet_by_name('word_count')\n",
    "for i in range(sheet.nrows):\n",
    "    row = sheet.row_values (i)\n",
    "    print(row)"
   ]
  },
  {
   "cell_type": "markdown",
   "metadata": {},
   "source": [
    "#Q5"
   ]
  },
  {
   "cell_type": "markdown",
   "metadata": {},
   "source": [
    "<img src= 'wordcloud.png'>"
   ]
  },
  {
   "cell_type": "markdown",
   "metadata": {},
   "source": []
  }
 ],
 "metadata": {
  "kernelspec": {
   "display_name": "Python 3",
   "language": "python",
   "name": "python3"
  },
  "language_info": {
   "codemirror_mode": {
    "name": "ipython",
    "version": 3
   },
   "file_extension": ".py",
   "mimetype": "text/x-python",
   "name": "python",
   "nbconvert_exporter": "python",
   "pygments_lexer": "ipython3",
   "version": "3.6.5"
  }
 },
 "nbformat": 4,
 "nbformat_minor": 2
}
