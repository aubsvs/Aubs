{
 "cells": [
  {
   "cell_type": "markdown",
   "metadata": {},
   "source": [
    "#q1"
   ]
  },
  {
   "cell_type": "code",
   "execution_count": 1,
   "metadata": {},
   "outputs": [
    {
     "name": "stdout",
     "output_type": "stream",
     "text": [
      "120\n"
     ]
    }
   ],
   "source": [
    "result = 1\n",
    "for i in range (1,6):\n",
    "    result=result*i\n",
    "print(result)"
   ]
  },
  {
   "cell_type": "markdown",
   "metadata": {},
   "source": [
    "#q2"
   ]
  },
  {
   "cell_type": "code",
   "execution_count": 2,
   "metadata": {},
   "outputs": [
    {
     "name": "stdout",
     "output_type": "stream",
     "text": [
      "15\n"
     ]
    }
   ],
   "source": [
    "result= 0\n",
    "for i in range (1,6):\n",
    "    result=result+i\n",
    "print(result) "
   ]
  },
  {
   "cell_type": "markdown",
   "metadata": {},
   "source": [
    "#q3"
   ]
  },
  {
   "cell_type": "code",
   "execution_count": 3,
   "metadata": {},
   "outputs": [
    {
     "name": "stdout",
     "output_type": "stream",
     "text": [
      "181440\n"
     ]
    }
   ],
   "source": [
    "result = 1\n",
    "for i in range (3,10):\n",
    "    result=result*i\n",
    "print(result)"
   ]
  },
  {
   "cell_type": "markdown",
   "metadata": {},
   "source": [
    "#q4"
   ]
  },
  {
   "cell_type": "code",
   "execution_count": 4,
   "metadata": {},
   "outputs": [
    {
     "name": "stdout",
     "output_type": "stream",
     "text": [
      "6720\n"
     ]
    }
   ],
   "source": [
    "result = 1\n",
    "for i in range (4,9):\n",
    "        result= result*i\n",
    "print(result)"
   ]
  },
  {
   "cell_type": "markdown",
   "metadata": {},
   "source": [
    "#q5"
   ]
  },
  {
   "cell_type": "code",
   "execution_count": 5,
   "metadata": {},
   "outputs": [
    {
     "name": "stdout",
     "output_type": "stream",
     "text": [
      "4\n"
     ]
    }
   ],
   "source": [
    "for i in range (6):\n",
    "    i=i-1\n",
    "    if i == 3:\n",
    "         continue\n",
    "    if i == 6:\n",
    "        continue\n",
    "print (i)"
   ]
  },
  {
   "cell_type": "markdown",
   "metadata": {},
   "source": [
    "#q6"
   ]
  },
  {
   "cell_type": "code",
   "execution_count": 6,
   "metadata": {},
   "outputs": [
    {
     "name": "stdout",
     "output_type": "stream",
     "text": [
      "This\n",
      "is\n",
      "my\n",
      "fourth\n",
      "string.\n",
      "5\n"
     ]
    }
   ],
   "source": [
    "result = 0\n",
    "for word in \"This is my fourth string.\".split():\n",
    "    print(word)\n",
    "    result= result+1\n",
    "print(result)"
   ]
  },
  {
   "cell_type": "markdown",
   "metadata": {},
   "source": [
    "#q7"
   ]
  },
  {
   "cell_type": "code",
   "execution_count": 7,
   "metadata": {},
   "outputs": [
    {
     "name": "stdout",
     "output_type": "stream",
     "text": [
      "[]\n"
     ]
    }
   ],
   "source": [
    "num_list= [12, 32, 43, 35]\n",
    "while num_list:\n",
    "    num_list.remove(num_list[0])\n",
    "\n",
    "print (num_list)"
   ]
  },
  {
   "cell_type": "markdown",
   "metadata": {},
   "source": [
    "#q8"
   ]
  },
  {
   "cell_type": "code",
   "execution_count": 8,
   "metadata": {},
   "outputs": [
    {
     "name": "stdout",
     "output_type": "stream",
     "text": [
      "['This', 'is', 'my', 'fourth', 'string.']\n",
      "['is', 'my', 'fourth', 'string.']\n",
      "['my', 'fourth', 'string.']\n",
      "['fourth', 'string.']\n",
      "['string.']\n",
      "5\n"
     ]
    }
   ],
   "source": [
    "word_list = \"This is my fourth string.\".split()\n",
    "result = 0\n",
    "while (word_list):\n",
    "    print (word_list)\n",
    "    result= result+1\n",
    "    word_list.remove(word_list[0])\n",
    "print(result)"
   ]
  },
  {
   "cell_type": "markdown",
   "metadata": {},
   "source": [
    "#q9"
   ]
  },
  {
   "cell_type": "code",
   "execution_count": 9,
   "metadata": {},
   "outputs": [
    {
     "name": "stdout",
     "output_type": "stream",
     "text": [
      "{'lang': 'ch', 'entities': {'hashtags': ['Preds', 'Pens', 'SingIntoSpring']}, 'coordinates': (-75.14310264, 40.05701649), 'favorite_count': 1138}\n"
     ]
    }
   ],
   "source": [
    "my_tweet = {'favorite_count':1138,\n",
    "         'lang':'ch',\n",
    "         'coordinates':(-75.14310264, 40.05701649),\n",
    "          'entities':\n",
    "          {'hashtags':['Preds', 'Pens', 'SingIntoSpring']}}\n",
    "print (my_tweet)"
   ]
  },
  {
   "cell_type": "code",
   "execution_count": 10,
   "metadata": {},
   "outputs": [
    {
     "name": "stdout",
     "output_type": "stream",
     "text": [
      "['Preds', 'Pens', 'SingIntoSpring']\n"
     ]
    }
   ],
   "source": [
    "print (my_tweet['entities']['hashtags'])"
   ]
  },
  {
   "cell_type": "markdown",
   "metadata": {},
   "source": [
    "#q9.1"
   ]
  },
  {
   "cell_type": "code",
   "execution_count": 11,
   "metadata": {},
   "outputs": [
    {
     "name": "stdout",
     "output_type": "stream",
     "text": [
      "3\n"
     ]
    }
   ],
   "source": [
    "result = 0\n",
    "for hashtags in (my_tweet['entities']['hashtags']):\n",
    "    result= result+1\n",
    "print(result)"
   ]
  },
  {
   "cell_type": "markdown",
   "metadata": {},
   "source": [
    "#q9.2"
   ]
  },
  {
   "cell_type": "code",
   "execution_count": 12,
   "metadata": {},
   "outputs": [
    {
     "name": "stdout",
     "output_type": "stream",
     "text": [
      "{'lang': 'ch', 'entities': {'hashtags': ['Preds', 'Pens', 'SingIntoSpring']}, 'coordinates': (-75.14310264, 40.05701649), 'favorite_count': 1138}\n",
      "{'lang': 'ch', 'entities': {'hashtags': ['Pens', 'SingIntoSpring']}, 'coordinates': (-75.14310264, 40.05701649), 'favorite_count': 1138}\n",
      "{'lang': 'ch', 'entities': {'hashtags': ['SingIntoSpring']}, 'coordinates': (-75.14310264, 40.05701649), 'favorite_count': 1138}\n",
      "3\n"
     ]
    }
   ],
   "source": [
    "word_list = \"This is my fourth string.\".split()\n",
    "result = 0\n",
    "while (my_tweet['entities']['hashtags']):\n",
    "    print (my_tweet)\n",
    "    result= result+1\n",
    "    (my_tweet['entities']['hashtags']).remove(my_tweet['entities']['hashtags'][0])\n",
    "print(result)"
   ]
  },
  {
   "cell_type": "markdown",
   "metadata": {},
   "source": [
    "#q10"
   ]
  },
  {
   "cell_type": "code",
   "execution_count": 22,
   "metadata": {},
   "outputs": [
    {
     "name": "stdout",
     "output_type": "stream",
     "text": [
      "32\n",
      "43\n"
     ]
    }
   ],
   "source": [
    "num_list= [12, 32, 43, 35]\n",
    "\n",
    "max_item= num_list[0]\n",
    "\n",
    "for current_item in num_list:\n",
    "    if max_item>= current_item:\n",
    "        continue\n",
    "    if max_item< current_item:\n",
    "        max_item = current_item\n",
    "    print (max_item)"
   ]
  },
  {
   "cell_type": "code",
   "execution_count": 14,
   "metadata": {},
   "outputs": [
    {
     "name": "stdout",
     "output_type": "stream",
     "text": [
      "12\n",
      "12\n",
      "12\n",
      "12\n"
     ]
    }
   ],
   "source": [
    "num_list= [12, 32, 43, 35]\n",
    "\n",
    "min_item= num_list[0]\n",
    "\n",
    "for current_item in num_list:\n",
    "    if min_item> current_item:\n",
    "        min_item = current_item\n",
    "    print (min_item)"
   ]
  },
  {
   "cell_type": "code",
   "execution_count": null,
   "metadata": {},
   "outputs": [],
   "source": []
  }
 ],
 "metadata": {
  "kernelspec": {
   "display_name": "Python 2",
   "language": "python",
   "name": "python2"
  },
  "language_info": {
   "codemirror_mode": {
    "name": "ipython",
    "version": 2
   },
   "file_extension": ".py",
   "mimetype": "text/x-python",
   "name": "python",
   "nbconvert_exporter": "python",
   "pygments_lexer": "ipython2",
   "version": "2.7.15"
  }
 },
 "nbformat": 4,
 "nbformat_minor": 2
}
